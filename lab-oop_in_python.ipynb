{
 "cells": [
  {
   "cell_type": "markdown",
   "metadata": {},
   "source": [
    "# LAB | Object-Oriented Programming (OOP) in Python"
   ]
  },
  {
   "cell_type": "markdown",
   "metadata": {},
   "source": [
    "## Overview\n",
    "This exercise notebook will help you practice Object-Oriented Programming concepts in Python. You will create classes, instantiate objects, and use inheritance to build more complex structures.\n",
    "\n",
    "## Instructions\n",
    "- Complete each exercise by writing the appropriate code in the provided space.\n",
    "- Test your code to ensure it works as expected.\n",
    "- Use the hints provided if you get stuck."
   ]
  },
  {
   "cell_type": "markdown",
   "metadata": {},
   "source": [
    "### Exercise 1: Create a Class with Instance Attributes\n",
    "Write a Python program to create a `Vehicle` class with `max_speed` and `mileage` instance attributes."
   ]
  },
  {
   "cell_type": "code",
   "execution_count": 9,
   "metadata": {},
   "outputs": [
    {
     "name": "stdout",
     "output_type": "stream",
     "text": [
      "70 100\n"
     ]
    }
   ],
   "source": [
    "# Your code here\n",
    "class Vehicle:\n",
    "\n",
    "    description = \"This is a car\"\n",
    "    # Constructor: Define __init__ method with parameters for max_speed and mileage\n",
    "    def __init__(self, max_speed, mileage):\n",
    "        self.max_speed = max_speed\n",
    "        self.mileage = mileage\n",
    "\n",
    "# Example instantiation\n",
    "# Create an instance of Vehicle\n",
    "class modelX (Vehicle):\n",
    "    max_speed = 70\n",
    "    mileage = 100\n",
    "# Print attributes\n",
    "print(modelX.max_speed, modelX.mileage)  # Expected output: (value of max_speed, value of mileage)"
   ]
  },
  {
   "cell_type": "markdown",
   "metadata": {},
   "source": [
    "### Exercise 2: Create a Vehicle Class Without Any Variables and Methods\n",
    "Create a `Vehicle` class without any variables or methods."
   ]
  },
  {
   "cell_type": "code",
   "execution_count": 10,
   "metadata": {},
   "outputs": [
    {
     "name": "stdout",
     "output_type": "stream",
     "text": [
      "<class '__main__.Vehicle'>\n"
     ]
    }
   ],
   "source": [
    "# Your code here\n",
    "class Vehicle:\n",
    "    pass\n",
    "\n",
    "# Example instantiation\n",
    "my_vehicle = Vehicle()\n",
    "print(type(my_vehicle))  # Expected output: <class '__main__.Vehicle'>"
   ]
  },
  {
   "cell_type": "markdown",
   "metadata": {},
   "source": [
    "### Exercise 3: Create a Child Class Bus\n",
    "Create a child class `Bus` that will inherit all of the variables and methods of the `Vehicle` class."
   ]
  },
  {
   "cell_type": "code",
   "execution_count": 11,
   "metadata": {},
   "outputs": [
    {
     "name": "stdout",
     "output_type": "stream",
     "text": [
      "<class '__main__.Bus'>\n"
     ]
    }
   ],
   "source": [
    "# Your code here\n",
    "class Bus(Vehicle):\n",
    "    pass\n",
    "\n",
    "# Example instantiation\n",
    "school_bus = Bus()\n",
    "print(type(school_bus))  # Expected output: <class '__main__.Bus'>"
   ]
  },
  {
   "cell_type": "markdown",
   "metadata": {},
   "source": [
    "### Exercise 4: Class Inheritance with Method Overriding\n",
    "Create a `Bus` class that inherits from the `Vehicle` class. Override the `fare()` method to include an extra charge for maintenance."
   ]
  },
  {
   "cell_type": "code",
   "execution_count": 23,
   "metadata": {},
   "outputs": [
    {
     "name": "stdout",
     "output_type": "stream",
     "text": [
      "Base fare with extra charge: 10\n"
     ]
    }
   ],
   "source": [
    "# Your code here\n",
    "class Vehicle:\n",
    "    def fare(self):\n",
    "        return \"Base fare\"\n",
    "\n",
    "class Bus(Vehicle):\n",
    "    def __init__(self, bus_fare):\n",
    "        self.bus_fare = bus_fare\n",
    "\n",
    "    def fare(self):\n",
    "        return f\"{super().fare()} with extra charge: {self.bus_fare}\"\n",
    "\n",
    "school_bus = Bus(10)\n",
    "print(school_bus.fare())  # Output: \"Base fare with extra charge: 10\"\n",
    "# Output: \"Base fare with extra charge\"\n"
   ]
  },
  {
   "cell_type": "markdown",
   "metadata": {},
   "source": [
    "### Exercise 5: Define a Class Attribute\n",
    "Define a property that must have the same value for every class instance (object). Set a default value for `color`."
   ]
  },
  {
   "cell_type": "code",
   "execution_count": 24,
   "metadata": {},
   "outputs": [
    {
     "name": "stdout",
     "output_type": "stream",
     "text": [
      "White\n"
     ]
    }
   ],
   "source": [
    "# Your code here\n",
    "class Vehicle:\n",
    "    color = \"White\"  # Hint: Define color as a class attribute\n",
    "\n",
    "    def __init__(self, name, max_speed, mileage):\n",
    "        self.name = name\n",
    "        self.max_speed = max_speed\n",
    "        self.mileage = mileage\n",
    "\n",
    "school_bus = Vehicle(\"School Volvo\", 180, 12)\n",
    "print(school_bus.color)  # Expected output: \"White\""
   ]
  },
  {
   "cell_type": "markdown",
   "metadata": {},
   "source": [
    "### Exercise 6: Class Inheritance with Default Fare Calculation\n",
    "Create a `Bus` child class that inherits from the `Vehicle` class. The default fare charge of any vehicle is `seating capacity * 100`. If the vehicle is a bus instance, add an extra 10% on the full fare as a maintenance charge."
   ]
  },
  {
   "cell_type": "code",
   "execution_count": 30,
   "metadata": {},
   "outputs": [
    {
     "name": "stdout",
     "output_type": "stream",
     "text": [
      "Total Bus fare is: 5500.0\n"
     ]
    }
   ],
   "source": [
    "class Vehicle:\n",
    "    def __init__(self, name, mileage, capacity):\n",
    "        self.name = name\n",
    "        self.mileage = mileage\n",
    "        self.capacity = capacity\n",
    "\n",
    "    def fare(self):\n",
    "        return self.capacity * 100\n",
    "\n",
    "class Bus(Vehicle):\n",
    "    def fare(self):\n",
    "        base_fare = super().fare() #super().fare() gets the base fare (capacity * 100) from Vehicle\n",
    "        maintenance_charge = 0.10 * base_fare # maintenannce charge is defined\n",
    "        return base_fare + maintenance_charge # base fare calculated\n",
    "\n",
    "school_bus = Bus(\"School Volvo\", 12, 50)\n",
    "print(\"Total Bus fare is:\", school_bus.fare()) \n",
    "# Expected output: Total Bus fare is: (calculated amount)"
   ]
  },
  {
   "cell_type": "markdown",
   "metadata": {},
   "source": [
    "### Exercise 7: Check Type of an Object\n",
    "Write a program to determine which class a given object belongs to."
   ]
  },
  {
   "cell_type": "code",
   "execution_count": 31,
   "metadata": {},
   "outputs": [
    {
     "name": "stdout",
     "output_type": "stream",
     "text": [
      "<class '__main__.Bus'>\n"
     ]
    }
   ],
   "source": [
    "# Your code here\n",
    "school_bus = Bus(\"School Volvo\", 12, 50)\n",
    "print(type(school_bus))  # Expected output: <class '__main__.Bus'>"
   ]
  },
  {
   "cell_type": "markdown",
   "metadata": {},
   "source": [
    "### Exercise 8: Check Instance of Class \n",
    "Determine if `school_bus` is also an instance of the `Vehicle` class.\n"
   ]
  },
  {
   "cell_type": "code",
   "execution_count": 32,
   "metadata": {},
   "outputs": [
    {
     "name": "stdout",
     "output_type": "stream",
     "text": [
      "True\n"
     ]
    }
   ],
   "source": [
    "# Your code here\n",
    "print(isinstance(school_bus, Vehicle))  # Expected output: True or False based on inheritance"
   ]
  },
  {
   "cell_type": "markdown",
   "metadata": {},
   "source": [
    "### Exercise Completion  \n",
    "Once you have completed all exercises:\n",
    "- Review your solutions.\n",
    "- Ensure your code is well-documented with comments explaining your logic.\n",
    "- Save your notebook for submission or further review.\n",
    "\n",
    "Happy coding! Enjoy exploring Object-Oriented Programming with Python!\n"
   ]
  }
 ],
 "metadata": {
  "kernelspec": {
   "display_name": ".venv",
   "language": "python",
   "name": "python3"
  },
  "language_info": {
   "codemirror_mode": {
    "name": "ipython",
    "version": 3
   },
   "file_extension": ".py",
   "mimetype": "text/x-python",
   "name": "python",
   "nbconvert_exporter": "python",
   "pygments_lexer": "ipython3",
   "version": "3.8.0"
  }
 },
 "nbformat": 4,
 "nbformat_minor": 2
}
